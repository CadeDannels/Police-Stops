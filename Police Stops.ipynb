{
 "cells": [
  {
   "cell_type": "code",
   "execution_count": 1,
   "id": "unlikely-lindsay",
   "metadata": {},
   "outputs": [],
   "source": [
    "import pandas as pd\n",
    "import numpy as np\n",
    "import altair as alt"
   ]
  },
  {
   "cell_type": "code",
   "execution_count": 2,
   "id": "exterior-investigation",
   "metadata": {},
   "outputs": [],
   "source": [
    "data = pd.read_csv(\"Demographics_of_Police_Stops.csv\")"
   ]
  },
  {
   "cell_type": "code",
   "execution_count": 3,
   "id": "equal-fifteen",
   "metadata": {},
   "outputs": [
    {
     "data": {
      "text/html": [
       "<div>\n",
       "<style scoped>\n",
       "    .dataframe tbody tr th:only-of-type {\n",
       "        vertical-align: middle;\n",
       "    }\n",
       "\n",
       "    .dataframe tbody tr th {\n",
       "        vertical-align: top;\n",
       "    }\n",
       "\n",
       "    .dataframe thead th {\n",
       "        text-align: right;\n",
       "    }\n",
       "</style>\n",
       "<table border=\"1\" class=\"dataframe\">\n",
       "  <thead>\n",
       "    <tr style=\"text-align: right;\">\n",
       "      <th></th>\n",
       "      <th>ObjectId</th>\n",
       "      <th>stopdate</th>\n",
       "      <th>stoptime</th>\n",
       "      <th>streetnbr</th>\n",
       "      <th>streetdir</th>\n",
       "      <th>street</th>\n",
       "      <th>Min_</th>\n",
       "      <th>sex</th>\n",
       "      <th>race</th>\n",
       "      <th>ethnic</th>\n",
       "      <th>Year_of_birth</th>\n",
       "      <th>enfaction</th>\n",
       "      <th>rpmainid</th>\n",
       "    </tr>\n",
       "  </thead>\n",
       "  <tbody>\n",
       "    <tr>\n",
       "      <th>0</th>\n",
       "      <td>1</td>\n",
       "      <td>2018/01/19 00:00:00</td>\n",
       "      <td>30</td>\n",
       "      <td>NaN</td>\n",
       "      <td>NaN</td>\n",
       "      <td>ARAPAHOE AVE/CANYON BLVD</td>\n",
       "      <td>15</td>\n",
       "      <td>M</td>\n",
       "      <td>W</td>\n",
       "      <td>N</td>\n",
       "      <td>1959</td>\n",
       "      <td>N</td>\n",
       "      <td>3174</td>\n",
       "    </tr>\n",
       "    <tr>\n",
       "      <th>1</th>\n",
       "      <td>2</td>\n",
       "      <td>2018/01/13 00:00:00</td>\n",
       "      <td>2235</td>\n",
       "      <td>2398</td>\n",
       "      <td>NaN</td>\n",
       "      <td>CANYON BLVD/FOLSOM ST</td>\n",
       "      <td>10</td>\n",
       "      <td>M</td>\n",
       "      <td>W</td>\n",
       "      <td>N</td>\n",
       "      <td>1989</td>\n",
       "      <td>Y</td>\n",
       "      <td>3175</td>\n",
       "    </tr>\n",
       "    <tr>\n",
       "      <th>2</th>\n",
       "      <td>3</td>\n",
       "      <td>2018/01/19 00:00:00</td>\n",
       "      <td>149</td>\n",
       "      <td>1849</td>\n",
       "      <td>NaN</td>\n",
       "      <td>11TH ST/CANYON | WALNUT ALLEY</td>\n",
       "      <td>5</td>\n",
       "      <td>M</td>\n",
       "      <td>W</td>\n",
       "      <td>N</td>\n",
       "      <td>1996</td>\n",
       "      <td>Y</td>\n",
       "      <td>3176</td>\n",
       "    </tr>\n",
       "    <tr>\n",
       "      <th>3</th>\n",
       "      <td>4</td>\n",
       "      <td>2018/01/19 00:00:00</td>\n",
       "      <td>149</td>\n",
       "      <td>1849</td>\n",
       "      <td>NaN</td>\n",
       "      <td>11TH ST/CANYON | WALNUT ALLEY</td>\n",
       "      <td>5</td>\n",
       "      <td>M</td>\n",
       "      <td>W</td>\n",
       "      <td>N</td>\n",
       "      <td>1996</td>\n",
       "      <td>Y</td>\n",
       "      <td>3177</td>\n",
       "    </tr>\n",
       "    <tr>\n",
       "      <th>4</th>\n",
       "      <td>5</td>\n",
       "      <td>2018/01/11 00:00:00</td>\n",
       "      <td>2300</td>\n",
       "      <td>2299</td>\n",
       "      <td>NaN</td>\n",
       "      <td>30TH ST/PEARL ST</td>\n",
       "      <td>5</td>\n",
       "      <td>F</td>\n",
       "      <td>W</td>\n",
       "      <td>N</td>\n",
       "      <td>1998</td>\n",
       "      <td>Y</td>\n",
       "      <td>3178</td>\n",
       "    </tr>\n",
       "  </tbody>\n",
       "</table>\n",
       "</div>"
      ],
      "text/plain": [
       "   ObjectId             stopdate  stoptime streetnbr  streetdir  \\\n",
       "0         1  2018/01/19 00:00:00        30       NaN        NaN   \n",
       "1         2  2018/01/13 00:00:00      2235      2398        NaN   \n",
       "2         3  2018/01/19 00:00:00       149      1849        NaN   \n",
       "3         4  2018/01/19 00:00:00       149      1849        NaN   \n",
       "4         5  2018/01/11 00:00:00      2300      2299        NaN   \n",
       "\n",
       "                          street  Min_ sex race ethnic  Year_of_birth  \\\n",
       "0       ARAPAHOE AVE/CANYON BLVD    15   M    W      N           1959   \n",
       "1          CANYON BLVD/FOLSOM ST    10   M    W      N           1989   \n",
       "2  11TH ST/CANYON | WALNUT ALLEY     5   M    W      N           1996   \n",
       "3  11TH ST/CANYON | WALNUT ALLEY     5   M    W      N           1996   \n",
       "4               30TH ST/PEARL ST     5   F    W      N           1998   \n",
       "\n",
       "  enfaction  rpmainid  \n",
       "0         N      3174  \n",
       "1         Y      3175  \n",
       "2         Y      3176  \n",
       "3         Y      3177  \n",
       "4         Y      3178  "
      ]
     },
     "execution_count": 3,
     "metadata": {},
     "output_type": "execute_result"
    }
   ],
   "source": [
    "data.head()"
   ]
  },
  {
   "cell_type": "code",
   "execution_count": 4,
   "id": "useful-developer",
   "metadata": {},
   "outputs": [],
   "source": [
    "year_gb = data.groupby(\"Year_of_birth\").agg({\"ObjectId\":'count', \"stoptime\":np.mean})"
   ]
  },
  {
   "cell_type": "code",
   "execution_count": 5,
   "id": "cosmetic-preserve",
   "metadata": {},
   "outputs": [],
   "source": [
    "year_gb = year_gb.tail(82)"
   ]
  },
  {
   "cell_type": "code",
   "execution_count": 6,
   "id": "superb-cuisine",
   "metadata": {},
   "outputs": [],
   "source": [
    "year_gb = year_gb.head(79)"
   ]
  },
  {
   "cell_type": "code",
   "execution_count": 7,
   "id": "requested-annotation",
   "metadata": {},
   "outputs": [
    {
     "data": {
      "text/plain": [
       "Year_of_birth\n",
       "1928      1\n",
       "1930      1\n",
       "2005      2\n",
       "2004      2\n",
       "1932      2\n",
       "       ... \n",
       "1994    305\n",
       "1995    312\n",
       "1998    315\n",
       "1996    418\n",
       "1997    423\n",
       "Name: ObjectId, Length: 79, dtype: int64"
      ]
     },
     "execution_count": 7,
     "metadata": {},
     "output_type": "execute_result"
    }
   ],
   "source": [
    "year_gb[\"ObjectId\"].sort_values()"
   ]
  },
  {
   "cell_type": "code",
   "execution_count": 8,
   "id": "dominican-western",
   "metadata": {},
   "outputs": [
    {
     "data": {
      "text/plain": [
       "Year_of_birth\n",
       "1927     615.000000\n",
       "1934     931.666667\n",
       "1929    1065.666667\n",
       "1966    1157.226415\n",
       "1971    1158.326241\n",
       "           ...     \n",
       "1932    1594.500000\n",
       "1931    1598.250000\n",
       "2003    1759.500000\n",
       "2004    1776.500000\n",
       "2005    1830.000000\n",
       "Name: stoptime, Length: 79, dtype: float64"
      ]
     },
     "execution_count": 8,
     "metadata": {},
     "output_type": "execute_result"
    }
   ],
   "source": [
    "year_gb[\"stoptime\"].sort_values()"
   ]
  },
  {
   "cell_type": "code",
   "execution_count": 9,
   "id": "serious-search",
   "metadata": {},
   "outputs": [],
   "source": [
    "year_gb = year_gb.reset_index()"
   ]
  },
  {
   "cell_type": "code",
   "execution_count": 10,
   "id": "medium-donna",
   "metadata": {},
   "outputs": [],
   "source": [
    "year_gb.rename(columns={\"ObjectId\":\"Total Stops\"},inplace=True)"
   ]
  },
  {
   "cell_type": "raw",
   "id": "spare-sugar",
   "metadata": {},
   "source": []
  },
  {
   "cell_type": "code",
   "execution_count": 11,
   "id": "everyday-height",
   "metadata": {},
   "outputs": [
    {
     "data": {
      "text/html": [
       "<div>\n",
       "<style scoped>\n",
       "    .dataframe tbody tr th:only-of-type {\n",
       "        vertical-align: middle;\n",
       "    }\n",
       "\n",
       "    .dataframe tbody tr th {\n",
       "        vertical-align: top;\n",
       "    }\n",
       "\n",
       "    .dataframe thead th {\n",
       "        text-align: right;\n",
       "    }\n",
       "</style>\n",
       "<table border=\"1\" class=\"dataframe\">\n",
       "  <thead>\n",
       "    <tr style=\"text-align: right;\">\n",
       "      <th></th>\n",
       "      <th>Year_of_birth</th>\n",
       "      <th>Total Stops</th>\n",
       "      <th>stoptime</th>\n",
       "    </tr>\n",
       "  </thead>\n",
       "  <tbody>\n",
       "    <tr>\n",
       "      <th>0</th>\n",
       "      <td>1927</td>\n",
       "      <td>3</td>\n",
       "      <td>615.000000</td>\n",
       "    </tr>\n",
       "    <tr>\n",
       "      <th>1</th>\n",
       "      <td>1928</td>\n",
       "      <td>1</td>\n",
       "      <td>1530.000000</td>\n",
       "    </tr>\n",
       "    <tr>\n",
       "      <th>2</th>\n",
       "      <td>1929</td>\n",
       "      <td>3</td>\n",
       "      <td>1065.666667</td>\n",
       "    </tr>\n",
       "    <tr>\n",
       "      <th>3</th>\n",
       "      <td>1930</td>\n",
       "      <td>1</td>\n",
       "      <td>1306.000000</td>\n",
       "    </tr>\n",
       "    <tr>\n",
       "      <th>4</th>\n",
       "      <td>1931</td>\n",
       "      <td>4</td>\n",
       "      <td>1598.250000</td>\n",
       "    </tr>\n",
       "    <tr>\n",
       "      <th>...</th>\n",
       "      <td>...</td>\n",
       "      <td>...</td>\n",
       "      <td>...</td>\n",
       "    </tr>\n",
       "    <tr>\n",
       "      <th>74</th>\n",
       "      <td>2001</td>\n",
       "      <td>100</td>\n",
       "      <td>1399.580000</td>\n",
       "    </tr>\n",
       "    <tr>\n",
       "      <th>75</th>\n",
       "      <td>2002</td>\n",
       "      <td>41</td>\n",
       "      <td>1469.853659</td>\n",
       "    </tr>\n",
       "    <tr>\n",
       "      <th>76</th>\n",
       "      <td>2003</td>\n",
       "      <td>8</td>\n",
       "      <td>1759.500000</td>\n",
       "    </tr>\n",
       "    <tr>\n",
       "      <th>77</th>\n",
       "      <td>2004</td>\n",
       "      <td>2</td>\n",
       "      <td>1776.500000</td>\n",
       "    </tr>\n",
       "    <tr>\n",
       "      <th>78</th>\n",
       "      <td>2005</td>\n",
       "      <td>2</td>\n",
       "      <td>1830.000000</td>\n",
       "    </tr>\n",
       "  </tbody>\n",
       "</table>\n",
       "<p>79 rows × 3 columns</p>\n",
       "</div>"
      ],
      "text/plain": [
       "    Year_of_birth  Total Stops     stoptime\n",
       "0            1927            3   615.000000\n",
       "1            1928            1  1530.000000\n",
       "2            1929            3  1065.666667\n",
       "3            1930            1  1306.000000\n",
       "4            1931            4  1598.250000\n",
       "..            ...          ...          ...\n",
       "74           2001          100  1399.580000\n",
       "75           2002           41  1469.853659\n",
       "76           2003            8  1759.500000\n",
       "77           2004            2  1776.500000\n",
       "78           2005            2  1830.000000\n",
       "\n",
       "[79 rows x 3 columns]"
      ]
     },
     "execution_count": 11,
     "metadata": {},
     "output_type": "execute_result"
    }
   ],
   "source": [
    "year_gb"
   ]
  },
  {
   "cell_type": "code",
   "execution_count": 12,
   "id": "protective-navigator",
   "metadata": {},
   "outputs": [
    {
     "data": {
      "text/html": [
       "\n",
       "<div id=\"altair-viz-a02aa0960a9b459086a1382a71da2953\"></div>\n",
       "<script type=\"text/javascript\">\n",
       "  (function(spec, embedOpt){\n",
       "    let outputDiv = document.currentScript.previousElementSibling;\n",
       "    if (outputDiv.id !== \"altair-viz-a02aa0960a9b459086a1382a71da2953\") {\n",
       "      outputDiv = document.getElementById(\"altair-viz-a02aa0960a9b459086a1382a71da2953\");\n",
       "    }\n",
       "    const paths = {\n",
       "      \"vega\": \"https://cdn.jsdelivr.net/npm//vega@5?noext\",\n",
       "      \"vega-lib\": \"https://cdn.jsdelivr.net/npm//vega-lib?noext\",\n",
       "      \"vega-lite\": \"https://cdn.jsdelivr.net/npm//vega-lite@4.8.1?noext\",\n",
       "      \"vega-embed\": \"https://cdn.jsdelivr.net/npm//vega-embed@6?noext\",\n",
       "    };\n",
       "\n",
       "    function loadScript(lib) {\n",
       "      return new Promise(function(resolve, reject) {\n",
       "        var s = document.createElement('script');\n",
       "        s.src = paths[lib];\n",
       "        s.async = true;\n",
       "        s.onload = () => resolve(paths[lib]);\n",
       "        s.onerror = () => reject(`Error loading script: ${paths[lib]}`);\n",
       "        document.getElementsByTagName(\"head\")[0].appendChild(s);\n",
       "      });\n",
       "    }\n",
       "\n",
       "    function showError(err) {\n",
       "      outputDiv.innerHTML = `<div class=\"error\" style=\"color:red;\">${err}</div>`;\n",
       "      throw err;\n",
       "    }\n",
       "\n",
       "    function displayChart(vegaEmbed) {\n",
       "      vegaEmbed(outputDiv, spec, embedOpt)\n",
       "        .catch(err => showError(`Javascript Error: ${err.message}<br>This usually means there's a typo in your chart specification. See the javascript console for the full traceback.`));\n",
       "    }\n",
       "\n",
       "    if(typeof define === \"function\" && define.amd) {\n",
       "      requirejs.config({paths});\n",
       "      require([\"vega-embed\"], displayChart, err => showError(`Error loading script: ${err.message}`));\n",
       "    } else if (typeof vegaEmbed === \"function\") {\n",
       "      displayChart(vegaEmbed);\n",
       "    } else {\n",
       "      loadScript(\"vega\")\n",
       "        .then(() => loadScript(\"vega-lite\"))\n",
       "        .then(() => loadScript(\"vega-embed\"))\n",
       "        .catch(showError)\n",
       "        .then(() => displayChart(vegaEmbed));\n",
       "    }\n",
       "  })({\"config\": {\"view\": {\"continuousWidth\": 400, \"continuousHeight\": 300}}, \"data\": {\"name\": \"data-c1a023ecef254439609acacb99e96fd1\"}, \"mark\": \"circle\", \"encoding\": {\"x\": {\"type\": \"quantitative\", \"field\": \"Total Stops\"}, \"y\": {\"type\": \"quantitative\", \"field\": \"stoptime\"}}, \"$schema\": \"https://vega.github.io/schema/vega-lite/v4.8.1.json\", \"datasets\": {\"data-c1a023ecef254439609acacb99e96fd1\": [{\"Year_of_birth\": 1927, \"Total Stops\": 3, \"stoptime\": 615.0}, {\"Year_of_birth\": 1928, \"Total Stops\": 1, \"stoptime\": 1530.0}, {\"Year_of_birth\": 1929, \"Total Stops\": 3, \"stoptime\": 1065.6666666666667}, {\"Year_of_birth\": 1930, \"Total Stops\": 1, \"stoptime\": 1306.0}, {\"Year_of_birth\": 1931, \"Total Stops\": 4, \"stoptime\": 1598.25}, {\"Year_of_birth\": 1932, \"Total Stops\": 2, \"stoptime\": 1594.5}, {\"Year_of_birth\": 1933, \"Total Stops\": 2, \"stoptime\": 1225.5}, {\"Year_of_birth\": 1934, \"Total Stops\": 3, \"stoptime\": 931.6666666666666}, {\"Year_of_birth\": 1935, \"Total Stops\": 6, \"stoptime\": 1227.8333333333333}, {\"Year_of_birth\": 1936, \"Total Stops\": 5, \"stoptime\": 1262.6}, {\"Year_of_birth\": 1937, \"Total Stops\": 9, \"stoptime\": 1296.888888888889}, {\"Year_of_birth\": 1938, \"Total Stops\": 9, \"stoptime\": 1302.111111111111}, {\"Year_of_birth\": 1939, \"Total Stops\": 12, \"stoptime\": 1486.6666666666667}, {\"Year_of_birth\": 1940, \"Total Stops\": 10, \"stoptime\": 1434.2}, {\"Year_of_birth\": 1941, \"Total Stops\": 5, \"stoptime\": 1483.6}, {\"Year_of_birth\": 1942, \"Total Stops\": 11, \"stoptime\": 1486.2727272727273}, {\"Year_of_birth\": 1943, \"Total Stops\": 11, \"stoptime\": 1379.4545454545455}, {\"Year_of_birth\": 1944, \"Total Stops\": 21, \"stoptime\": 1422.6666666666667}, {\"Year_of_birth\": 1945, \"Total Stops\": 21, \"stoptime\": 1312.2857142857142}, {\"Year_of_birth\": 1946, \"Total Stops\": 28, \"stoptime\": 1191.0357142857142}, {\"Year_of_birth\": 1947, \"Total Stops\": 32, \"stoptime\": 1289.71875}, {\"Year_of_birth\": 1948, \"Total Stops\": 33, \"stoptime\": 1347.5757575757575}, {\"Year_of_birth\": 1949, \"Total Stops\": 36, \"stoptime\": 1356.611111111111}, {\"Year_of_birth\": 1950, \"Total Stops\": 44, \"stoptime\": 1253.1363636363637}, {\"Year_of_birth\": 1951, \"Total Stops\": 41, \"stoptime\": 1290.4634146341464}, {\"Year_of_birth\": 1952, \"Total Stops\": 40, \"stoptime\": 1397.6}, {\"Year_of_birth\": 1953, \"Total Stops\": 45, \"stoptime\": 1412.888888888889}, {\"Year_of_birth\": 1954, \"Total Stops\": 56, \"stoptime\": 1272.625}, {\"Year_of_birth\": 1955, \"Total Stops\": 44, \"stoptime\": 1333.4318181818182}, {\"Year_of_birth\": 1956, \"Total Stops\": 70, \"stoptime\": 1327.5857142857142}, {\"Year_of_birth\": 1957, \"Total Stops\": 58, \"stoptime\": 1298.5}, {\"Year_of_birth\": 1958, \"Total Stops\": 82, \"stoptime\": 1333.5487804878048}, {\"Year_of_birth\": 1959, \"Total Stops\": 77, \"stoptime\": 1237.5064935064936}, {\"Year_of_birth\": 1960, \"Total Stops\": 85, \"stoptime\": 1284.4588235294118}, {\"Year_of_birth\": 1961, \"Total Stops\": 77, \"stoptime\": 1328.4285714285713}, {\"Year_of_birth\": 1962, \"Total Stops\": 99, \"stoptime\": 1348.111111111111}, {\"Year_of_birth\": 1963, \"Total Stops\": 85, \"stoptime\": 1430.2235294117647}, {\"Year_of_birth\": 1964, \"Total Stops\": 107, \"stoptime\": 1249.0280373831777}, {\"Year_of_birth\": 1965, \"Total Stops\": 103, \"stoptime\": 1276.0388349514562}, {\"Year_of_birth\": 1966, \"Total Stops\": 106, \"stoptime\": 1157.2264150943397}, {\"Year_of_birth\": 1967, \"Total Stops\": 112, \"stoptime\": 1299.1875}, {\"Year_of_birth\": 1968, \"Total Stops\": 101, \"stoptime\": 1216.1881188118812}, {\"Year_of_birth\": 1969, \"Total Stops\": 134, \"stoptime\": 1355.365671641791}, {\"Year_of_birth\": 1970, \"Total Stops\": 133, \"stoptime\": 1174.563909774436}, {\"Year_of_birth\": 1971, \"Total Stops\": 141, \"stoptime\": 1158.3262411347519}, {\"Year_of_birth\": 1972, \"Total Stops\": 116, \"stoptime\": 1178.801724137931}, {\"Year_of_birth\": 1973, \"Total Stops\": 97, \"stoptime\": 1244.0}, {\"Year_of_birth\": 1974, \"Total Stops\": 116, \"stoptime\": 1273.3620689655172}, {\"Year_of_birth\": 1975, \"Total Stops\": 116, \"stoptime\": 1213.655172413793}, {\"Year_of_birth\": 1976, \"Total Stops\": 108, \"stoptime\": 1265.2222222222222}, {\"Year_of_birth\": 1977, \"Total Stops\": 127, \"stoptime\": 1279.4094488188975}, {\"Year_of_birth\": 1978, \"Total Stops\": 128, \"stoptime\": 1248.9765625}, {\"Year_of_birth\": 1979, \"Total Stops\": 118, \"stoptime\": 1213.322033898305}, {\"Year_of_birth\": 1980, \"Total Stops\": 156, \"stoptime\": 1265.551282051282}, {\"Year_of_birth\": 1981, \"Total Stops\": 170, \"stoptime\": 1215.4470588235295}, {\"Year_of_birth\": 1982, \"Total Stops\": 164, \"stoptime\": 1162.6097560975609}, {\"Year_of_birth\": 1983, \"Total Stops\": 129, \"stoptime\": 1228.891472868217}, {\"Year_of_birth\": 1984, \"Total Stops\": 152, \"stoptime\": 1223.7894736842106}, {\"Year_of_birth\": 1985, \"Total Stops\": 199, \"stoptime\": 1260.3969849246232}, {\"Year_of_birth\": 1986, \"Total Stops\": 179, \"stoptime\": 1231.2234636871508}, {\"Year_of_birth\": 1987, \"Total Stops\": 190, \"stoptime\": 1255.4947368421053}, {\"Year_of_birth\": 1988, \"Total Stops\": 211, \"stoptime\": 1251.2085308056871}, {\"Year_of_birth\": 1989, \"Total Stops\": 206, \"stoptime\": 1223.5485436893205}, {\"Year_of_birth\": 1990, \"Total Stops\": 232, \"stoptime\": 1179.6293103448277}, {\"Year_of_birth\": 1991, \"Total Stops\": 249, \"stoptime\": 1289.6546184738957}, {\"Year_of_birth\": 1992, \"Total Stops\": 273, \"stoptime\": 1231.6336996336997}, {\"Year_of_birth\": 1993, \"Total Stops\": 248, \"stoptime\": 1314.141129032258}, {\"Year_of_birth\": 1994, \"Total Stops\": 305, \"stoptime\": 1247.511475409836}, {\"Year_of_birth\": 1995, \"Total Stops\": 312, \"stoptime\": 1321.6634615384614}, {\"Year_of_birth\": 1996, \"Total Stops\": 418, \"stoptime\": 1248.4904306220096}, {\"Year_of_birth\": 1997, \"Total Stops\": 423, \"stoptime\": 1251.2529550827423}, {\"Year_of_birth\": 1998, \"Total Stops\": 315, \"stoptime\": 1278.025396825397}, {\"Year_of_birth\": 1999, \"Total Stops\": 260, \"stoptime\": 1365.6884615384615}, {\"Year_of_birth\": 2000, \"Total Stops\": 149, \"stoptime\": 1464.3557046979865}, {\"Year_of_birth\": 2001, \"Total Stops\": 100, \"stoptime\": 1399.58}, {\"Year_of_birth\": 2002, \"Total Stops\": 41, \"stoptime\": 1469.8536585365853}, {\"Year_of_birth\": 2003, \"Total Stops\": 8, \"stoptime\": 1759.5}, {\"Year_of_birth\": 2004, \"Total Stops\": 2, \"stoptime\": 1776.5}, {\"Year_of_birth\": 2005, \"Total Stops\": 2, \"stoptime\": 1830.0}]}}, {\"mode\": \"vega-lite\"});\n",
       "</script>"
      ],
      "text/plain": [
       "alt.Chart(...)"
      ]
     },
     "execution_count": 12,
     "metadata": {},
     "output_type": "execute_result"
    }
   ],
   "source": [
    "alt.Chart(year_gb).mark_circle().encode(\n",
    "    x = \"Total Stops\",\n",
    "    y = \"stoptime\"\n",
    ")"
   ]
  },
  {
   "cell_type": "markdown",
   "id": "black-background",
   "metadata": {},
   "source": [
    "# V2"
   ]
  },
  {
   "cell_type": "code",
   "execution_count": 13,
   "id": "meaning-candy",
   "metadata": {},
   "outputs": [
    {
     "data": {
      "text/html": [
       "\n",
       "<div id=\"altair-viz-eb3142fab4484bcb8deffd0b89a14074\"></div>\n",
       "<script type=\"text/javascript\">\n",
       "  (function(spec, embedOpt){\n",
       "    let outputDiv = document.currentScript.previousElementSibling;\n",
       "    if (outputDiv.id !== \"altair-viz-eb3142fab4484bcb8deffd0b89a14074\") {\n",
       "      outputDiv = document.getElementById(\"altair-viz-eb3142fab4484bcb8deffd0b89a14074\");\n",
       "    }\n",
       "    const paths = {\n",
       "      \"vega\": \"https://cdn.jsdelivr.net/npm//vega@5?noext\",\n",
       "      \"vega-lib\": \"https://cdn.jsdelivr.net/npm//vega-lib?noext\",\n",
       "      \"vega-lite\": \"https://cdn.jsdelivr.net/npm//vega-lite@4.8.1?noext\",\n",
       "      \"vega-embed\": \"https://cdn.jsdelivr.net/npm//vega-embed@6?noext\",\n",
       "    };\n",
       "\n",
       "    function loadScript(lib) {\n",
       "      return new Promise(function(resolve, reject) {\n",
       "        var s = document.createElement('script');\n",
       "        s.src = paths[lib];\n",
       "        s.async = true;\n",
       "        s.onload = () => resolve(paths[lib]);\n",
       "        s.onerror = () => reject(`Error loading script: ${paths[lib]}`);\n",
       "        document.getElementsByTagName(\"head\")[0].appendChild(s);\n",
       "      });\n",
       "    }\n",
       "\n",
       "    function showError(err) {\n",
       "      outputDiv.innerHTML = `<div class=\"error\" style=\"color:red;\">${err}</div>`;\n",
       "      throw err;\n",
       "    }\n",
       "\n",
       "    function displayChart(vegaEmbed) {\n",
       "      vegaEmbed(outputDiv, spec, embedOpt)\n",
       "        .catch(err => showError(`Javascript Error: ${err.message}<br>This usually means there's a typo in your chart specification. See the javascript console for the full traceback.`));\n",
       "    }\n",
       "\n",
       "    if(typeof define === \"function\" && define.amd) {\n",
       "      requirejs.config({paths});\n",
       "      require([\"vega-embed\"], displayChart, err => showError(`Error loading script: ${err.message}`));\n",
       "    } else if (typeof vegaEmbed === \"function\") {\n",
       "      displayChart(vegaEmbed);\n",
       "    } else {\n",
       "      loadScript(\"vega\")\n",
       "        .then(() => loadScript(\"vega-lite\"))\n",
       "        .then(() => loadScript(\"vega-embed\"))\n",
       "        .catch(showError)\n",
       "        .then(() => displayChart(vegaEmbed));\n",
       "    }\n",
       "  })({\"config\": {\"view\": {\"continuousWidth\": 400, \"continuousHeight\": 300}}, \"data\": {\"name\": \"data-c1a023ecef254439609acacb99e96fd1\"}, \"mark\": \"circle\", \"encoding\": {\"color\": {\"type\": \"quantitative\", \"field\": \"Year_of_birth\"}, \"x\": {\"type\": \"quantitative\", \"field\": \"Total Stops\"}, \"y\": {\"type\": \"quantitative\", \"axis\": {\"title\": \"Average Time Stopped in Seconds\"}, \"field\": \"stoptime\"}}, \"title\": \"Boulder Police Stops by Year of Birth\", \"$schema\": \"https://vega.github.io/schema/vega-lite/v4.8.1.json\", \"datasets\": {\"data-c1a023ecef254439609acacb99e96fd1\": [{\"Year_of_birth\": 1927, \"Total Stops\": 3, \"stoptime\": 615.0}, {\"Year_of_birth\": 1928, \"Total Stops\": 1, \"stoptime\": 1530.0}, {\"Year_of_birth\": 1929, \"Total Stops\": 3, \"stoptime\": 1065.6666666666667}, {\"Year_of_birth\": 1930, \"Total Stops\": 1, \"stoptime\": 1306.0}, {\"Year_of_birth\": 1931, \"Total Stops\": 4, \"stoptime\": 1598.25}, {\"Year_of_birth\": 1932, \"Total Stops\": 2, \"stoptime\": 1594.5}, {\"Year_of_birth\": 1933, \"Total Stops\": 2, \"stoptime\": 1225.5}, {\"Year_of_birth\": 1934, \"Total Stops\": 3, \"stoptime\": 931.6666666666666}, {\"Year_of_birth\": 1935, \"Total Stops\": 6, \"stoptime\": 1227.8333333333333}, {\"Year_of_birth\": 1936, \"Total Stops\": 5, \"stoptime\": 1262.6}, {\"Year_of_birth\": 1937, \"Total Stops\": 9, \"stoptime\": 1296.888888888889}, {\"Year_of_birth\": 1938, \"Total Stops\": 9, \"stoptime\": 1302.111111111111}, {\"Year_of_birth\": 1939, \"Total Stops\": 12, \"stoptime\": 1486.6666666666667}, {\"Year_of_birth\": 1940, \"Total Stops\": 10, \"stoptime\": 1434.2}, {\"Year_of_birth\": 1941, \"Total Stops\": 5, \"stoptime\": 1483.6}, {\"Year_of_birth\": 1942, \"Total Stops\": 11, \"stoptime\": 1486.2727272727273}, {\"Year_of_birth\": 1943, \"Total Stops\": 11, \"stoptime\": 1379.4545454545455}, {\"Year_of_birth\": 1944, \"Total Stops\": 21, \"stoptime\": 1422.6666666666667}, {\"Year_of_birth\": 1945, \"Total Stops\": 21, \"stoptime\": 1312.2857142857142}, {\"Year_of_birth\": 1946, \"Total Stops\": 28, \"stoptime\": 1191.0357142857142}, {\"Year_of_birth\": 1947, \"Total Stops\": 32, \"stoptime\": 1289.71875}, {\"Year_of_birth\": 1948, \"Total Stops\": 33, \"stoptime\": 1347.5757575757575}, {\"Year_of_birth\": 1949, \"Total Stops\": 36, \"stoptime\": 1356.611111111111}, {\"Year_of_birth\": 1950, \"Total Stops\": 44, \"stoptime\": 1253.1363636363637}, {\"Year_of_birth\": 1951, \"Total Stops\": 41, \"stoptime\": 1290.4634146341464}, {\"Year_of_birth\": 1952, \"Total Stops\": 40, \"stoptime\": 1397.6}, {\"Year_of_birth\": 1953, \"Total Stops\": 45, \"stoptime\": 1412.888888888889}, {\"Year_of_birth\": 1954, \"Total Stops\": 56, \"stoptime\": 1272.625}, {\"Year_of_birth\": 1955, \"Total Stops\": 44, \"stoptime\": 1333.4318181818182}, {\"Year_of_birth\": 1956, \"Total Stops\": 70, \"stoptime\": 1327.5857142857142}, {\"Year_of_birth\": 1957, \"Total Stops\": 58, \"stoptime\": 1298.5}, {\"Year_of_birth\": 1958, \"Total Stops\": 82, \"stoptime\": 1333.5487804878048}, {\"Year_of_birth\": 1959, \"Total Stops\": 77, \"stoptime\": 1237.5064935064936}, {\"Year_of_birth\": 1960, \"Total Stops\": 85, \"stoptime\": 1284.4588235294118}, {\"Year_of_birth\": 1961, \"Total Stops\": 77, \"stoptime\": 1328.4285714285713}, {\"Year_of_birth\": 1962, \"Total Stops\": 99, \"stoptime\": 1348.111111111111}, {\"Year_of_birth\": 1963, \"Total Stops\": 85, \"stoptime\": 1430.2235294117647}, {\"Year_of_birth\": 1964, \"Total Stops\": 107, \"stoptime\": 1249.0280373831777}, {\"Year_of_birth\": 1965, \"Total Stops\": 103, \"stoptime\": 1276.0388349514562}, {\"Year_of_birth\": 1966, \"Total Stops\": 106, \"stoptime\": 1157.2264150943397}, {\"Year_of_birth\": 1967, \"Total Stops\": 112, \"stoptime\": 1299.1875}, {\"Year_of_birth\": 1968, \"Total Stops\": 101, \"stoptime\": 1216.1881188118812}, {\"Year_of_birth\": 1969, \"Total Stops\": 134, \"stoptime\": 1355.365671641791}, {\"Year_of_birth\": 1970, \"Total Stops\": 133, \"stoptime\": 1174.563909774436}, {\"Year_of_birth\": 1971, \"Total Stops\": 141, \"stoptime\": 1158.3262411347519}, {\"Year_of_birth\": 1972, \"Total Stops\": 116, \"stoptime\": 1178.801724137931}, {\"Year_of_birth\": 1973, \"Total Stops\": 97, \"stoptime\": 1244.0}, {\"Year_of_birth\": 1974, \"Total Stops\": 116, \"stoptime\": 1273.3620689655172}, {\"Year_of_birth\": 1975, \"Total Stops\": 116, \"stoptime\": 1213.655172413793}, {\"Year_of_birth\": 1976, \"Total Stops\": 108, \"stoptime\": 1265.2222222222222}, {\"Year_of_birth\": 1977, \"Total Stops\": 127, \"stoptime\": 1279.4094488188975}, {\"Year_of_birth\": 1978, \"Total Stops\": 128, \"stoptime\": 1248.9765625}, {\"Year_of_birth\": 1979, \"Total Stops\": 118, \"stoptime\": 1213.322033898305}, {\"Year_of_birth\": 1980, \"Total Stops\": 156, \"stoptime\": 1265.551282051282}, {\"Year_of_birth\": 1981, \"Total Stops\": 170, \"stoptime\": 1215.4470588235295}, {\"Year_of_birth\": 1982, \"Total Stops\": 164, \"stoptime\": 1162.6097560975609}, {\"Year_of_birth\": 1983, \"Total Stops\": 129, \"stoptime\": 1228.891472868217}, {\"Year_of_birth\": 1984, \"Total Stops\": 152, \"stoptime\": 1223.7894736842106}, {\"Year_of_birth\": 1985, \"Total Stops\": 199, \"stoptime\": 1260.3969849246232}, {\"Year_of_birth\": 1986, \"Total Stops\": 179, \"stoptime\": 1231.2234636871508}, {\"Year_of_birth\": 1987, \"Total Stops\": 190, \"stoptime\": 1255.4947368421053}, {\"Year_of_birth\": 1988, \"Total Stops\": 211, \"stoptime\": 1251.2085308056871}, {\"Year_of_birth\": 1989, \"Total Stops\": 206, \"stoptime\": 1223.5485436893205}, {\"Year_of_birth\": 1990, \"Total Stops\": 232, \"stoptime\": 1179.6293103448277}, {\"Year_of_birth\": 1991, \"Total Stops\": 249, \"stoptime\": 1289.6546184738957}, {\"Year_of_birth\": 1992, \"Total Stops\": 273, \"stoptime\": 1231.6336996336997}, {\"Year_of_birth\": 1993, \"Total Stops\": 248, \"stoptime\": 1314.141129032258}, {\"Year_of_birth\": 1994, \"Total Stops\": 305, \"stoptime\": 1247.511475409836}, {\"Year_of_birth\": 1995, \"Total Stops\": 312, \"stoptime\": 1321.6634615384614}, {\"Year_of_birth\": 1996, \"Total Stops\": 418, \"stoptime\": 1248.4904306220096}, {\"Year_of_birth\": 1997, \"Total Stops\": 423, \"stoptime\": 1251.2529550827423}, {\"Year_of_birth\": 1998, \"Total Stops\": 315, \"stoptime\": 1278.025396825397}, {\"Year_of_birth\": 1999, \"Total Stops\": 260, \"stoptime\": 1365.6884615384615}, {\"Year_of_birth\": 2000, \"Total Stops\": 149, \"stoptime\": 1464.3557046979865}, {\"Year_of_birth\": 2001, \"Total Stops\": 100, \"stoptime\": 1399.58}, {\"Year_of_birth\": 2002, \"Total Stops\": 41, \"stoptime\": 1469.8536585365853}, {\"Year_of_birth\": 2003, \"Total Stops\": 8, \"stoptime\": 1759.5}, {\"Year_of_birth\": 2004, \"Total Stops\": 2, \"stoptime\": 1776.5}, {\"Year_of_birth\": 2005, \"Total Stops\": 2, \"stoptime\": 1830.0}]}}, {\"mode\": \"vega-lite\"});\n",
       "</script>"
      ],
      "text/plain": [
       "alt.Chart(...)"
      ]
     },
     "execution_count": 13,
     "metadata": {},
     "output_type": "execute_result"
    }
   ],
   "source": [
    "alt.Chart(year_gb, title=\"Boulder Police Stops by Year of Birth\").mark_circle().encode(\n",
    "    x = \"Total Stops\",\n",
    "    y = alt.Y(\"stoptime\", axis=alt.Axis(title='Average Time Stopped in Seconds')),\n",
    "    color = \"Year_of_birth\"\n",
    ")"
   ]
  },
  {
   "cell_type": "markdown",
   "id": "changing-cornell",
   "metadata": {},
   "source": [
    "# V3"
   ]
  },
  {
   "cell_type": "code",
   "execution_count": 16,
   "id": "careful-while",
   "metadata": {},
   "outputs": [],
   "source": [
    "alt.Chart(year_gb, title=\"Boulder Police Stops by Year of Birth\").mark_circle().encode(\n",
    "    x = \"Total Stops\",\n",
    "    y = alt.Y(\"stoptime\", axis=alt.Axis(title='Average Time Stopped in Seconds')),\n",
    "    color = \"Year_of_birth\",\n",
    "    tooltip = [\"Year_of_birth\", \"Total Stops\", \"stoptime\"]\n",
    ").interactive().save('police_stops.html')"
   ]
  },
  {
   "cell_type": "code",
   "execution_count": null,
   "id": "about-reggae",
   "metadata": {},
   "outputs": [],
   "source": []
  }
 ],
 "metadata": {
  "kernelspec": {
   "display_name": "Python 3",
   "language": "python",
   "name": "python3"
  },
  "language_info": {
   "codemirror_mode": {
    "name": "ipython",
    "version": 3
   },
   "file_extension": ".py",
   "mimetype": "text/x-python",
   "name": "python",
   "nbconvert_exporter": "python",
   "pygments_lexer": "ipython3",
   "version": "3.7.7"
  }
 },
 "nbformat": 4,
 "nbformat_minor": 5
}
